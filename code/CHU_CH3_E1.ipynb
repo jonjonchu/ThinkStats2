{
 "cells": [
  {
   "cell_type": "markdown",
   "metadata": {},
   "source": [
    "# Exercise 3.1\n",
    " Something like the class size paradox appears if you survey children and ask how many children are in their family. Families with many children are more likely to appear in your sample, and families with no children have no chance to be in the sample.\n",
    "Use the NSFG respondent variable NUMKDHH to construct the actual distribution for the number of children under 18 in the household.\n",
    "\n",
    "Now compute the biased distribution we would see if we surveyed the children and asked them how many children under 18 (including themselves) are in their household.\n",
    "\n",
    "Plot the actual and biased distributions, and compute their means. As a starting place, you can use chap03ex.ipynb."
   ]
  },
  {
   "cell_type": "markdown",
   "metadata": {},
   "source": [
    "# Import libraries"
   ]
  },
  {
   "cell_type": "code",
   "execution_count": 25,
   "metadata": {},
   "outputs": [],
   "source": [
    "import pandas as pd\n",
    "import nsfg\n",
    "import thinkstats2\n",
    "import thinkplot"
   ]
  },
  {
   "cell_type": "code",
   "execution_count": 26,
   "metadata": {},
   "outputs": [
    {
     "data": {
      "text/html": [
       "<div>\n",
       "<style scoped>\n",
       "    .dataframe tbody tr th:only-of-type {\n",
       "        vertical-align: middle;\n",
       "    }\n",
       "\n",
       "    .dataframe tbody tr th {\n",
       "        vertical-align: top;\n",
       "    }\n",
       "\n",
       "    .dataframe thead th {\n",
       "        text-align: right;\n",
       "    }\n",
       "</style>\n",
       "<table border=\"1\" class=\"dataframe\">\n",
       "  <thead>\n",
       "    <tr style=\"text-align: right;\">\n",
       "      <th></th>\n",
       "      <th>caseid</th>\n",
       "      <th>rscrinf</th>\n",
       "      <th>rdormres</th>\n",
       "      <th>rostscrn</th>\n",
       "      <th>rscreenhisp</th>\n",
       "      <th>rscreenrace</th>\n",
       "      <th>age_a</th>\n",
       "      <th>age_r</th>\n",
       "      <th>cmbirth</th>\n",
       "      <th>agescrn</th>\n",
       "      <th>...</th>\n",
       "      <th>pubassis_i</th>\n",
       "      <th>basewgt</th>\n",
       "      <th>adj_mod_basewgt</th>\n",
       "      <th>finalwgt</th>\n",
       "      <th>secu_r</th>\n",
       "      <th>sest</th>\n",
       "      <th>cmintvw</th>\n",
       "      <th>cmlstyr</th>\n",
       "      <th>screentime</th>\n",
       "      <th>intvlngth</th>\n",
       "    </tr>\n",
       "  </thead>\n",
       "  <tbody>\n",
       "    <tr>\n",
       "      <th>0</th>\n",
       "      <td>2298</td>\n",
       "      <td>1</td>\n",
       "      <td>5</td>\n",
       "      <td>5</td>\n",
       "      <td>1</td>\n",
       "      <td>5.0</td>\n",
       "      <td>27</td>\n",
       "      <td>27</td>\n",
       "      <td>902</td>\n",
       "      <td>27</td>\n",
       "      <td>...</td>\n",
       "      <td>0</td>\n",
       "      <td>3247.916977</td>\n",
       "      <td>5123.759559</td>\n",
       "      <td>5556.717241</td>\n",
       "      <td>2</td>\n",
       "      <td>18</td>\n",
       "      <td>1234</td>\n",
       "      <td>1222</td>\n",
       "      <td>18:26:36</td>\n",
       "      <td>110.492667</td>\n",
       "    </tr>\n",
       "    <tr>\n",
       "      <th>1</th>\n",
       "      <td>5012</td>\n",
       "      <td>1</td>\n",
       "      <td>5</td>\n",
       "      <td>1</td>\n",
       "      <td>5</td>\n",
       "      <td>5.0</td>\n",
       "      <td>42</td>\n",
       "      <td>42</td>\n",
       "      <td>718</td>\n",
       "      <td>42</td>\n",
       "      <td>...</td>\n",
       "      <td>0</td>\n",
       "      <td>2335.279149</td>\n",
       "      <td>2846.799490</td>\n",
       "      <td>4744.191350</td>\n",
       "      <td>2</td>\n",
       "      <td>18</td>\n",
       "      <td>1233</td>\n",
       "      <td>1221</td>\n",
       "      <td>16:30:59</td>\n",
       "      <td>64.294000</td>\n",
       "    </tr>\n",
       "    <tr>\n",
       "      <th>2</th>\n",
       "      <td>11586</td>\n",
       "      <td>1</td>\n",
       "      <td>5</td>\n",
       "      <td>1</td>\n",
       "      <td>5</td>\n",
       "      <td>5.0</td>\n",
       "      <td>43</td>\n",
       "      <td>43</td>\n",
       "      <td>708</td>\n",
       "      <td>43</td>\n",
       "      <td>...</td>\n",
       "      <td>0</td>\n",
       "      <td>2335.279149</td>\n",
       "      <td>2846.799490</td>\n",
       "      <td>4744.191350</td>\n",
       "      <td>2</td>\n",
       "      <td>18</td>\n",
       "      <td>1234</td>\n",
       "      <td>1222</td>\n",
       "      <td>18:19:09</td>\n",
       "      <td>75.149167</td>\n",
       "    </tr>\n",
       "    <tr>\n",
       "      <th>3</th>\n",
       "      <td>6794</td>\n",
       "      <td>5</td>\n",
       "      <td>5</td>\n",
       "      <td>4</td>\n",
       "      <td>1</td>\n",
       "      <td>5.0</td>\n",
       "      <td>15</td>\n",
       "      <td>15</td>\n",
       "      <td>1042</td>\n",
       "      <td>15</td>\n",
       "      <td>...</td>\n",
       "      <td>0</td>\n",
       "      <td>3783.152221</td>\n",
       "      <td>5071.464231</td>\n",
       "      <td>5923.977368</td>\n",
       "      <td>2</td>\n",
       "      <td>18</td>\n",
       "      <td>1234</td>\n",
       "      <td>1222</td>\n",
       "      <td>15:54:43</td>\n",
       "      <td>28.642833</td>\n",
       "    </tr>\n",
       "    <tr>\n",
       "      <th>4</th>\n",
       "      <td>616</td>\n",
       "      <td>1</td>\n",
       "      <td>5</td>\n",
       "      <td>4</td>\n",
       "      <td>1</td>\n",
       "      <td>5.0</td>\n",
       "      <td>20</td>\n",
       "      <td>20</td>\n",
       "      <td>991</td>\n",
       "      <td>20</td>\n",
       "      <td>...</td>\n",
       "      <td>0</td>\n",
       "      <td>5341.329968</td>\n",
       "      <td>6437.335772</td>\n",
       "      <td>7229.128072</td>\n",
       "      <td>2</td>\n",
       "      <td>18</td>\n",
       "      <td>1233</td>\n",
       "      <td>1221</td>\n",
       "      <td>14:19:44</td>\n",
       "      <td>69.502667</td>\n",
       "    </tr>\n",
       "    <tr>\n",
       "      <th>...</th>\n",
       "      <td>...</td>\n",
       "      <td>...</td>\n",
       "      <td>...</td>\n",
       "      <td>...</td>\n",
       "      <td>...</td>\n",
       "      <td>...</td>\n",
       "      <td>...</td>\n",
       "      <td>...</td>\n",
       "      <td>...</td>\n",
       "      <td>...</td>\n",
       "      <td>...</td>\n",
       "      <td>...</td>\n",
       "      <td>...</td>\n",
       "      <td>...</td>\n",
       "      <td>...</td>\n",
       "      <td>...</td>\n",
       "      <td>...</td>\n",
       "      <td>...</td>\n",
       "      <td>...</td>\n",
       "      <td>...</td>\n",
       "      <td>...</td>\n",
       "    </tr>\n",
       "    <tr>\n",
       "      <th>7638</th>\n",
       "      <td>11018</td>\n",
       "      <td>1</td>\n",
       "      <td>5</td>\n",
       "      <td>2</td>\n",
       "      <td>5</td>\n",
       "      <td>3.0</td>\n",
       "      <td>34</td>\n",
       "      <td>34</td>\n",
       "      <td>811</td>\n",
       "      <td>34</td>\n",
       "      <td>...</td>\n",
       "      <td>0</td>\n",
       "      <td>3247.445399</td>\n",
       "      <td>3784.333145</td>\n",
       "      <td>6565.818007</td>\n",
       "      <td>2</td>\n",
       "      <td>76</td>\n",
       "      <td>1228</td>\n",
       "      <td>1216</td>\n",
       "      <td>15:57:38</td>\n",
       "      <td>82.907333</td>\n",
       "    </tr>\n",
       "    <tr>\n",
       "      <th>7639</th>\n",
       "      <td>6075</td>\n",
       "      <td>5</td>\n",
       "      <td>5</td>\n",
       "      <td>3</td>\n",
       "      <td>5</td>\n",
       "      <td>3.0</td>\n",
       "      <td>17</td>\n",
       "      <td>17</td>\n",
       "      <td>1014</td>\n",
       "      <td>17</td>\n",
       "      <td>...</td>\n",
       "      <td>0</td>\n",
       "      <td>2273.211779</td>\n",
       "      <td>2497.234491</td>\n",
       "      <td>4392.385746</td>\n",
       "      <td>2</td>\n",
       "      <td>76</td>\n",
       "      <td>1228</td>\n",
       "      <td>1216</td>\n",
       "      <td>18:23:53</td>\n",
       "      <td>54.044833</td>\n",
       "    </tr>\n",
       "    <tr>\n",
       "      <th>7640</th>\n",
       "      <td>5649</td>\n",
       "      <td>1</td>\n",
       "      <td>5</td>\n",
       "      <td>2</td>\n",
       "      <td>5</td>\n",
       "      <td>5.0</td>\n",
       "      <td>29</td>\n",
       "      <td>29</td>\n",
       "      <td>873</td>\n",
       "      <td>29</td>\n",
       "      <td>...</td>\n",
       "      <td>0</td>\n",
       "      <td>3247.445399</td>\n",
       "      <td>3569.313710</td>\n",
       "      <td>6003.228729</td>\n",
       "      <td>2</td>\n",
       "      <td>76</td>\n",
       "      <td>1228</td>\n",
       "      <td>1216</td>\n",
       "      <td>18:42:41</td>\n",
       "      <td>68.168000</td>\n",
       "    </tr>\n",
       "    <tr>\n",
       "      <th>7641</th>\n",
       "      <td>501</td>\n",
       "      <td>5</td>\n",
       "      <td>5</td>\n",
       "      <td>3</td>\n",
       "      <td>5</td>\n",
       "      <td>2.0</td>\n",
       "      <td>16</td>\n",
       "      <td>16</td>\n",
       "      <td>1034</td>\n",
       "      <td>16</td>\n",
       "      <td>...</td>\n",
       "      <td>0</td>\n",
       "      <td>5304.160818</td>\n",
       "      <td>5954.644352</td>\n",
       "      <td>10473.623950</td>\n",
       "      <td>2</td>\n",
       "      <td>76</td>\n",
       "      <td>1228</td>\n",
       "      <td>1216</td>\n",
       "      <td>16:02:45</td>\n",
       "      <td>32.717333</td>\n",
       "    </tr>\n",
       "    <tr>\n",
       "      <th>7642</th>\n",
       "      <td>10252</td>\n",
       "      <td>1</td>\n",
       "      <td>5</td>\n",
       "      <td>2</td>\n",
       "      <td>5</td>\n",
       "      <td>2.0</td>\n",
       "      <td>28</td>\n",
       "      <td>28</td>\n",
       "      <td>889</td>\n",
       "      <td>28</td>\n",
       "      <td>...</td>\n",
       "      <td>0</td>\n",
       "      <td>3247.445399</td>\n",
       "      <td>3476.637428</td>\n",
       "      <td>5847.356491</td>\n",
       "      <td>2</td>\n",
       "      <td>76</td>\n",
       "      <td>1230</td>\n",
       "      <td>1218</td>\n",
       "      <td>12:45:19</td>\n",
       "      <td>74.061500</td>\n",
       "    </tr>\n",
       "  </tbody>\n",
       "</table>\n",
       "<p>7643 rows × 3087 columns</p>\n",
       "</div>"
      ],
      "text/plain": [
       "      caseid  rscrinf  rdormres  rostscrn  rscreenhisp  rscreenrace  age_a  \\\n",
       "0       2298        1         5         5            1          5.0     27   \n",
       "1       5012        1         5         1            5          5.0     42   \n",
       "2      11586        1         5         1            5          5.0     43   \n",
       "3       6794        5         5         4            1          5.0     15   \n",
       "4        616        1         5         4            1          5.0     20   \n",
       "...      ...      ...       ...       ...          ...          ...    ...   \n",
       "7638   11018        1         5         2            5          3.0     34   \n",
       "7639    6075        5         5         3            5          3.0     17   \n",
       "7640    5649        1         5         2            5          5.0     29   \n",
       "7641     501        5         5         3            5          2.0     16   \n",
       "7642   10252        1         5         2            5          2.0     28   \n",
       "\n",
       "      age_r  cmbirth  agescrn  ...  pubassis_i      basewgt  adj_mod_basewgt  \\\n",
       "0        27      902       27  ...           0  3247.916977      5123.759559   \n",
       "1        42      718       42  ...           0  2335.279149      2846.799490   \n",
       "2        43      708       43  ...           0  2335.279149      2846.799490   \n",
       "3        15     1042       15  ...           0  3783.152221      5071.464231   \n",
       "4        20      991       20  ...           0  5341.329968      6437.335772   \n",
       "...     ...      ...      ...  ...         ...          ...              ...   \n",
       "7638     34      811       34  ...           0  3247.445399      3784.333145   \n",
       "7639     17     1014       17  ...           0  2273.211779      2497.234491   \n",
       "7640     29      873       29  ...           0  3247.445399      3569.313710   \n",
       "7641     16     1034       16  ...           0  5304.160818      5954.644352   \n",
       "7642     28      889       28  ...           0  3247.445399      3476.637428   \n",
       "\n",
       "          finalwgt  secu_r  sest  cmintvw  cmlstyr  screentime   intvlngth  \n",
       "0      5556.717241       2    18     1234     1222    18:26:36  110.492667  \n",
       "1      4744.191350       2    18     1233     1221    16:30:59   64.294000  \n",
       "2      4744.191350       2    18     1234     1222    18:19:09   75.149167  \n",
       "3      5923.977368       2    18     1234     1222    15:54:43   28.642833  \n",
       "4      7229.128072       2    18     1233     1221    14:19:44   69.502667  \n",
       "...            ...     ...   ...      ...      ...         ...         ...  \n",
       "7638   6565.818007       2    76     1228     1216    15:57:38   82.907333  \n",
       "7639   4392.385746       2    76     1228     1216    18:23:53   54.044833  \n",
       "7640   6003.228729       2    76     1228     1216    18:42:41   68.168000  \n",
       "7641  10473.623950       2    76     1228     1216    16:02:45   32.717333  \n",
       "7642   5847.356491       2    76     1230     1218    12:45:19   74.061500  \n",
       "\n",
       "[7643 rows x 3087 columns]"
      ]
     },
     "execution_count": 26,
     "metadata": {},
     "output_type": "execute_result"
    }
   ],
   "source": [
    "df = nsfg.ReadFemResp()\n",
    "df"
   ]
  },
  {
   "cell_type": "markdown",
   "metadata": {},
   "source": [
    "# Use the NSFG respondent variable NUMKDHH to construct the actual distribution for the number of children under 18 in the household."
   ]
  },
  {
   "cell_type": "code",
   "execution_count": 57,
   "metadata": {},
   "outputs": [
    {
     "data": {
      "image/png": "[encoded data removed]",
      "text/plain": [
       "<Figure size 432x288 with 1 Axes>"
      ]
     },
     "metadata": {
      "needs_background": "light"
     },
     "output_type": "display_data"
    },
    {
     "name": "stdout",
     "output_type": "stream",
     "text": [
      "Mean number of children: 1.024\n"
     ]
    },
    {
     "data": {
      "text/plain": [
       "<Figure size 576x432 with 0 Axes>"
      ]
     },
     "metadata": {},
     "output_type": "display_data"
    }
   ],
   "source": [
    "Actual_PMF = thinkstats2.Pmf(df.numkdhh, 'Actual')\n",
    "thinkplot.Hist(Actual_PMF)\n",
    "thinkplot.Show(xlabel = 'Number of Children', \n",
    "               ylabel = 'Proportion of total respondents', \n",
    "               title  = 'Actual Probability Distribution of Number of Children in 2002 NSFG')\n",
    "print('Mean number of children: %s' % float('%.4g' % Actual_PMF.Mean()))"
   ]
  },
  {
   "cell_type": "markdown",
   "metadata": {},
   "source": [
    "# Now compute the biased distribution we would see if we surveyed the children and asked them how many children under 18 (including themselves) are in their household."
   ]
  },
  {
   "cell_type": "markdown",
   "metadata": {},
   "source": [
    "### First create a BiasPmf function:"
   ]
  },
  {
   "cell_type": "code",
   "execution_count": 44,
   "metadata": {},
   "outputs": [],
   "source": [
    "def BiasPmf(pmf, label):\n",
    "    new_pmf = pmf.Copy(label=label)\n",
    "\n",
    "    for x, p in pmf.Items():\n",
    "        new_pmf.Mult(x, x)\n",
    "        \n",
    "    new_pmf.Normalize()\n",
    "    return new_pmf"
   ]
  },
  {
   "cell_type": "code",
   "execution_count": 61,
   "metadata": {},
   "outputs": [
    {
     "data": {
      "image/png": "[encoded data removed]",
      "text/plain": [
       "<Figure size 432x288 with 1 Axes>"
      ]
     },
     "metadata": {
      "needs_background": "light"
     },
     "output_type": "display_data"
    },
    {
     "name": "stdout",
     "output_type": "stream",
     "text": [
      "Mean number of children: 2.404\n"
     ]
    },
    {
     "data": {
      "text/plain": [
       "<Figure size 576x432 with 0 Axes>"
      ]
     },
     "metadata": {},
     "output_type": "display_data"
    }
   ],
   "source": [
    "Biased_PMF = BiasPmf(Actual_PMF, 'Observed')\n",
    "thinkplot.Hist(Biased_PMF)\n",
    "thinkplot.Show(xlabel = 'Number of Children', \n",
    "               ylabel = 'Proportion of total respondents', \n",
    "               title  = 'Biased Probability Distribution of Number of Children in 2002 NSFG')\n",
    "print('Mean number of children: %s' % float('%.4g' % Biased_PMF.Mean()))"
   ]
  },
  {
   "cell_type": "markdown",
   "metadata": {},
   "source": [
    "# Plot the actual and biased distributions, and compute their means. "
   ]
  },
  {
   "cell_type": "code",
   "execution_count": 62,
   "metadata": {},
   "outputs": [
    {
     "data": {
      "image/png": "[encoded data removed]",
      "text/plain": [
       "<Figure size 864x432 with 2 Axes>"
      ]
     },
     "metadata": {
      "needs_background": "light"
     },
     "output_type": "display_data"
    },
    {
     "data": {
      "text/plain": [
       "<Figure size 576x432 with 0 Axes>"
      ]
     },
     "metadata": {},
     "output_type": "display_data"
    }
   ],
   "source": [
    "thinkplot.PrePlot(2, cols=2)\n",
    "width = 0.45\n",
    "thinkplot.Hist(Actual_PMF, align='right', width=width)\n",
    "thinkplot.Hist(Biased_PMF, align='left', width=width)\n",
    "thinkplot.Config(xlabel = 'Number of Children', \n",
    "                 ylabel = 'Proportion of total respondents', \n",
    "                 title  = 'Actual v. Biased Histogram, # Children')\n",
    "\n",
    "thinkplot.PrePlot(2)\n",
    "thinkplot.SubPlot(2)\n",
    "thinkplot.Pmfs([Actual_PMF, Biased_PMF])\n",
    "thinkplot.Show(xlabel = 'Number of Children', \n",
    "               ylabel = 'Proportion of total respondents', \n",
    "               title  = 'Actual v. Biased Step Graph, # Children')"
   ]
  },
  {
   "cell_type": "code",
   "execution_count": 63,
   "metadata": {},
   "outputs": [
    {
     "name": "stdout",
     "output_type": "stream",
     "text": [
      "Actual Mean number of children: 1.024\n",
      "Biased Mean number of children: 2.404\n"
     ]
    }
   ],
   "source": [
    "print('Actual Mean number of children: %s' % float('%.4g' % Actual_PMF.Mean()))\n",
    "print('Biased Mean number of children: %s' % float('%.4g' % Biased_PMF.Mean()))"
   ]
  },
  {
   "cell_type": "code",
   "execution_count": null,
   "metadata": {},
   "outputs": [],
   "source": []
  }
 ],
 "metadata": {
  "kernelspec": {
   "display_name": "Python 3",
   "language": "python",
   "name": "python3"
  },
  "language_info": {
   "codemirror_mode": {
    "name": "ipython",
    "version": 3
   },
   "file_extension": ".py",
   "mimetype": "text/x-python",
   "name": "python",
   "nbconvert_exporter": "python",
   "pygments_lexer": "ipython3",
   "version": "3.7.6"
  }
 },
 "nbformat": 4,
 "nbformat_minor": 4
}
